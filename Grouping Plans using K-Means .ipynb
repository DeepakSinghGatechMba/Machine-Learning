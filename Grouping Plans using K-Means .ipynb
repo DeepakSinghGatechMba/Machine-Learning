{
 "cells": [
  {
   "cell_type": "code",
   "execution_count": null,
   "metadata": {},
   "outputs": [],
   "source": [
    "import pandas as pd\n",
    "from matplotlib import pyplot as plt\n",
    "import seaborn as sns\n",
    "import numpy as np\n",
    "\n",
    "from sklearn.preprocessing import minmax_scale\n",
    "from sklearn.cluster import KMeans\n",
    "\n",
    "%matplotlib inline\n",
    "sns.set()"
   ]
  },
  {
   "cell_type": "code",
   "execution_count": null,
   "metadata": {
    "scrolled": true
   },
   "outputs": [],
   "source": [
    "df_input = pd.read_csv('./enter csv file name')\n",
    "\n",
    "#\tDetails\tComp\tTech\tCountry\tExtraInfo\tDL\tUL\tCP\tPP\n",
    "\n",
    "df_input = df_input[['Details', 'Comp','Tech','Country','ExtraInfo','DL','UL', 'CP','PP']]\n",
    "#only for US \n",
    "df_input =df_input[df_input.Country=='US']\n",
    "df_input.head()"
   ]
  },
  {
   "cell_type": "code",
   "execution_count": null,
   "metadata": {},
   "outputs": [],
   "source": [
    "df_input.Details.value_counts()\n",
    "df_input.Tech.value_counts()"
   ]
  },
  {
   "cell_type": "code",
   "execution_count": null,
   "metadata": {
    "scrolled": true
   },
   "outputs": [],
   "source": [
    "#intermediate df for processing\n",
    "dataframe = df_input\n",
    "\n",
    "print('Shape : ',  dataframe.shape)\n",
    "dataframe.head()"
   ]
  },
  {
   "cell_type": "code",
   "execution_count": null,
   "metadata": {},
   "outputs": [],
   "source": [
    "# Normalize and add normalized PP column\n",
    "dataframe['PP_norm'] = minmax_scale(dataframe.PP)"
   ]
  },
  {
   "cell_type": "code",
   "execution_count": null,
   "metadata": {},
   "outputs": [],
   "source": [
    "def calculate_cluster(dataframe):\n",
    "    import random\n",
    "    cluster=1\n",
    "    diff=20\n",
    "\n",
    "    #diff between max and min PPs (range) within a cluster -> lower range => more cluster, higher range => less cluster\n",
    "\n",
    "    maxdiffwithincluster=8 \n",
    "\n",
    "    while(diff> maxdiffwithincluster):\n",
    "        random.seed(100)\n",
    "        kmeans = KMeans(cluster)\n",
    "        dataframe['kmeans'] = kmeans.fit_predict(dataframe[['PP_norm']])\n",
    "        for i in range(cluster):\n",
    "            local_max=dataframe.loc[dataframe.kmeans==i,'PP'].max()\n",
    "            local_min=dataframe.loc[dataframe.kmeans==i,'PP'].min()\n",
    "            diff=local_max-local_min\n",
    "            if(diff> maxdiffwithincluster):\n",
    "                cluster=cluster+1\n",
    "                break\n",
    "    return dataframe,cluster;"
   ]
  },
  {
   "cell_type": "markdown",
   "metadata": {},
   "source": [
    "expected output from K-means clustering - record has been classified which cluster it belongs to, example shown below\n",
    "\n",
    "<img src=\"Kmeans Clustering.jpg\" width=\"800\" height=\"400\">"
   ]
  },
  {
   "cell_type": "code",
   "execution_count": null,
   "metadata": {},
   "outputs": [],
   "source": [
    "def assign_cluster(dataframe,cluster):\n",
    "    #assign new cluster PPs to a group - for now we PP cluster at max PP for that cluster, \n",
    "    #we can introduce new pricing methodologies here\n",
    "    diff=0\n",
    "    dataframe['ClusterPP']=0\n",
    "    for i in range(cluster):\n",
    "        local_max=dataframe.loc[dataframe.kmeans==i,'PP'].max()\n",
    "        local_min=dataframe.loc[dataframe.kmeans==i,'PP'].min()\n",
    "        range_lim= local_max-local_min\n",
    "        if(range_lim > diff):\n",
    "            diff=range_lim\n",
    "        #display max diff in PPs in any cluster\n",
    "        #print(range_lim)\n",
    "        #assign new cluster PPs\n",
    "        dataframe.loc[dataframe.kmeans==i,'ClusterPP'] =local_max\n",
    "    return dataframe,diff;"
   ]
  },
  {
   "cell_type": "code",
   "execution_count": null,
   "metadata": {},
   "outputs": [],
   "source": [
    "def print_cluster_details(dataframe,cluster,diff):\n",
    "    print(\"Total plans in this cluster =\",len(dataframe.Details))\n",
    "    print(\"After clustering no of plans =\",cluster)\n",
    "    print(\"Average plans per cluster =\", round(len(dataframe.Details)/cluster,2))\n",
    "    print(\"Max range within a cluster =\",diff)"
   ]
  },
  {
   "cell_type": "code",
   "execution_count": null,
   "metadata": {},
   "outputs": [],
   "source": [
    "def cluster_details(dataframe,unique_plans):\n",
    "    combine_df = pd.DataFrame(columns=['Plan','Cluster','PP','Count'])\n",
    "    clusterPP=0\n",
    "    for i in unique_plans:\n",
    "        df=dataframe[ dataframe.Cluster.str.endswith(i) ]\n",
    "        #print(df)\n",
    "        concatDetails=''\n",
    "        for j in range(len(df)):\n",
    "            dl=df.iloc[j]['DL'].astype('str')\n",
    "            if(len(dl)>8):\n",
    "                dl=\"{:.3f}\".format(float(dl))\n",
    "            ul=df.iloc[j]['UL'].astype('str')\n",
    "            if(len(ul)>8):\n",
    "                ul=\"{:.3f}\".format(float(ul))\n",
    "            try:\n",
    "                extraInfo=df.iloc[0]['ExtraInfo']\n",
    "                if(np.isnan(extraInfo)):\n",
    "                    extraInfo=''\n",
    "            except:\n",
    "                extraInfo=' '+extraInfo\n",
    "            concatDetails=concatDetails +df.iloc[j]['Tech']+ ' by '+ df.iloc[j]['Comp'] + ' '+ dl+ 'M/'+ ul +'M' + extraInfo+ '\\n'\n",
    "            clusterPP=df.iloc[j]['ClusterPP']\n",
    "        combine_df=combine_df.append({'Plan': concatDetails,'Cluster': i,'PP': clusterPP, 'Count': j+1}, ignore_index=True)\n",
    "        break\n",
    "    return(combine_df)"
   ]
  },
  {
   "cell_type": "code",
   "execution_count": null,
   "metadata": {},
   "outputs": [],
   "source": [
    "def cluster_moreDetails(dataframe,unique_plans):\n",
    "    combine_df = pd.DataFrame(columns=['Plan','Cluster','PP','Count','Cluster_Def','Reduced_Count'])\n",
    "    clusterPP=0\n",
    "    for i in unique_plans:\n",
    "        df=dataframe[ dataframe.Cluster.str.endswith(i) ]\n",
    "        data=\n",
    "        {\n",
    "            'Comp':df.groupby(['Comp','Tech'], as_index=False)['DL'].min()['Comp'],\n",
    "            'Tech':df.groupby(['Comp','Tech'], as_index=False)['DL'].min()['Tech'],\n",
    "            'DL-min':df.groupby(['Comp','Tech'], as_index=False)['DL'].min()['DL'],\n",
    "            'UL-min':df.groupby(['Comp','Tech'], as_index=False)['UL'].min()['UL'],\n",
    "            'DL-max':df.groupby(['Comp','Tech'], as_index=False)['DL'].max()['DL'],\n",
    "            'UL-max':df.groupby(['Comp','Tech'], as_index=False)['UL'].max()['UL']\n",
    "        }\n",
    "        temp_df = pd.DataFrame(data)\n",
    "        summariseDetails=''\n",
    "        \n",
    "        for k in range(len(temp_df)):\n",
    "            dl_summ=''; ul_summ=''\n",
    "            dl_min='' ; dl_max=''\n",
    "            ul_min='' ; ul_max=''\n",
    "            \n",
    "            dl_min = temp_df.iloc[k]['DL-min'].astype('str')\n",
    "            if(len(dl_min)>8):\n",
    "                dl_min=\"{:.3f}\".format(float(dl_min))\n",
    "            \n",
    "            dl_max = temp_df.iloc[k]['DL-max'].astype('str')\n",
    "            if(len(dl_max)>8):\n",
    "                dl_max=\"{:.3f}\".format(float(dl_max))\n",
    "                \n",
    "            ul_min = temp_df.iloc[k]['UL-min'].astype('str')\n",
    "            if(len(ul_min)>8):\n",
    "                ul_min=\"{:.3f}\".format(float(ul_min))\n",
    "            \n",
    "            ul_max = temp_df.iloc[k]['UL-max'].astype('str')\n",
    "            if(len(ul_max)>8):\n",
    "                ul_max=\"{:.3f}\".format(float(ul_max))\n",
    "                \n",
    "            if(temp_df['DL-min'][k]==temp_df['DL-max'][k]):\n",
    "                dl_summ= dl_min + 'M'\n",
    "            else:\n",
    "                dl_summ= dl_min + 'M-' + dl_max + 'M' \n",
    "            \n",
    "            if(temp_df['UL-min'][k]==temp_df['UL-max'][k]):\n",
    "                ul_summ= ul_min + 'M'\n",
    "            else:\n",
    "                ul_summ= ul_min + 'M-' + ul_max + 'M' \n",
    "            \n",
    "            summariseDetails=summariseDetails + temp_df.iloc[k]['Tech']+ ' by '+ temp_df.iloc[k]['Comp'] + ' '+ dl_summ+ ' / '+ ul_summ + '\\n'\n",
    "         \n",
    "        concatDetails=''\n",
    "        \n",
    "        for j in range(len(df)):\n",
    "            dl=df.iloc[j]['DL'].astype('str')\n",
    "            if(len(dl)>8):\n",
    "                dl=\"{:.3f}\".format(float(dl))\n",
    "            ul=df.iloc[j]['UL'].astype('str')\n",
    "            if(len(ul)>8):\n",
    "                ul=\"{:.3f}\".format(float(ul))\n",
    "            try:\n",
    "                extraInfo=df.iloc[0]['ExtraInfo']\n",
    "                if(np.isnan(extraInfo)):\n",
    "                    extraInfo=''\n",
    "            except:\n",
    "                extraInfo=' '+extraInfo\n",
    "            concatDetails=concatDetails +df.iloc[j]['Tech']+ ' by '+ df.iloc[j]['Comp'] + ' '+ dl+ 'M/'+ ul +'M' + extraInfo+ '\\n'\n",
    "            clusterPP=df.iloc[j]['ClusterPP']\n",
    "            #print(concatDetails)\n",
    "        combine_df=combine_df.append({'Plan': concatDetails,'Cluster': i,'PP': clusterPP, 'Count': j+1,'Cluster_Def': summariseDetails,'Reduced_Count':k+1}, ignore_index=True)\n",
    "        \n",
    "    return(combine_df)"
   ]
  },
  {
   "cell_type": "code",
   "execution_count": null,
   "metadata": {},
   "outputs": [],
   "source": [
    "def clean_data(dataframe):\n",
    "    #Rename column and delete PP_norm variable\n",
    "    #\tDetails\tDL\tUL\tCP\tPP\tPP_norm\tkmeans\n",
    "    dataframe.rename(columns={'kmeans':'Cluster'}, inplace=True)\n",
    "    del dataframe['PP_norm']\n",
    "    return(dataframe)"
   ]
  },
  {
   "cell_type": "code",
   "execution_count": null,
   "metadata": {},
   "outputs": [],
   "source": [
    "def write_to_file(dataframe,combine_df):\n",
    "    # Create a Pandas Excel writer using XlsxWriter as the engine.\n",
    "    import datetime\n",
    "    t1 = datetime.datetime.now()\n",
    "    filename=r'enter file name'+str(t1.hour)+\"__\"+str(t1.minute)+str(t1.microsecond)+\".xlsx\"\n",
    "    writer = pd.ExcelWriter(filename, engine='xlsxwriter')\n",
    "\n",
    "    # Write each dataframe to a different worksheet.\n",
    "    dataframe.to_excel(writer, sheet_name='clusters')\n",
    "    combine_df.to_excel(writer, sheet_name='clustersCombined')\n",
    "\n",
    "    # Close the Pandas Excel writer and output the Excel file.\n",
    "    writer.save()"
   ]
  },
  {
   "cell_type": "code",
   "execution_count": null,
   "metadata": {
    "scrolled": false
   },
   "outputs": [],
   "source": [
    "final_details_df=pd.DataFrame()\n",
    "combine_details_df=pd.DataFrame()\n",
    "\n",
    "unique_plans = set(df_input.Tech)\n",
    "\n",
    "for i in unique_plans:\n",
    "    df_temp = dataframe[ df_input.Tech.str.endswith(i) ]\n",
    "\n",
    "    # Remove weird plans\n",
    "    df_temp = df_temp[df_temp.DL >= df_temp.UL]\n",
    "\n",
    "    df_temp,cluster=calculate_cluster(df_temp)\n",
    "    \n",
    "    df_temp,diff=assign_cluster(df_temp,cluster)\n",
    "\n",
    "    print_cluster_details(df_temp,cluster,diff)\n",
    "\n",
    "    df_temp=clean_data(df_temp)\n",
    "    \n",
    "    df_temp['Cluster']= i +'___' + df_temp['Cluster'].map(str)\n",
    "    \n",
    "    final_details_df = final_details_df.append(df_temp)\n",
    "    \n",
    "    unique_clusters= set(final_details_df.Cluster)\n",
    "    \n",
    "    combine_details_df = cluster_moreDetails(final_details_df,unique_clusters)\n",
    "       \n",
    "write_to_file(final_details_df,combine_details_df)"
   ]
  },
  {
   "cell_type": "code",
   "execution_count": null,
   "metadata": {},
   "outputs": [],
   "source": [
    "plt.figure(figsize=(5,5))\n",
    "sns.pairplot(final_details_df[['DL', 'UL', 'ClusterPP']], hue='ClusterPP', palette='Set1')\n",
    "plt.show()"
   ]
  }
 ],
 "metadata": {
  "kernelspec": {
   "display_name": "Python 3",
   "language": "python",
   "name": "python3"
  },
  "language_info": {
   "codemirror_mode": {
    "name": "ipython",
    "version": 3
   },
   "file_extension": ".py",
   "mimetype": "text/x-python",
   "name": "python",
   "nbconvert_exporter": "python",
   "pygments_lexer": "ipython3",
   "version": "3.8.5"
  }
 },
 "nbformat": 4,
 "nbformat_minor": 2
}
